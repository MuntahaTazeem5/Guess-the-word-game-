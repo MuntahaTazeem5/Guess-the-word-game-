{
  "nbformat": 4,
  "nbformat_minor": 0,
  "metadata": {
    "colab": {
      "provenance": []
    },
    "kernelspec": {
      "name": "python3",
      "display_name": "Python 3"
    },
    "language_info": {
      "name": "python"
    }
  },
  "cells": [
    {
      "cell_type": "code",
      "execution_count": null,
      "metadata": {
        "id": "S1XkP1c4z72E"
      },
      "outputs": [],
      "source": [
        "import random"
      ]
    },
    {
      "cell_type": "code",
      "source": [
        "word_bank=['rizz','ohio','sigma','tiktok','skibidii']"
      ],
      "metadata": {
        "id": "2EktnvCX0Uwd"
      },
      "execution_count": null,
      "outputs": []
    },
    {
      "cell_type": "code",
      "source": [
        "word=random.choice(word_bank)"
      ],
      "metadata": {
        "id": "_d5qOlP-0j-Y"
      },
      "execution_count": null,
      "outputs": []
    },
    {
      "cell_type": "code",
      "source": [
        "guessedword=['_']*len(word)\n"
      ],
      "metadata": {
        "id": "GQliD1Aj0sN_"
      },
      "execution_count": null,
      "outputs": []
    },
    {
      "cell_type": "code",
      "source": [
        "attempts=10"
      ],
      "metadata": {
        "id": "5Yt0-__A01Rh"
      },
      "execution_count": null,
      "outputs": []
    },
    {
      "cell_type": "code",
      "source": [
        "while attempts>0:\n",
        "  print(\"\\nCurrent Word: \"+\" \".join(guessedword))\n",
        "  guess=input(\"Guess a letter: \").lower()\n",
        "  if guess in word:\n",
        "    for i in range(len(word)):\n",
        "      if word[i]==guess:\n",
        "          guessedword[i]=guess\n",
        "          print(\"Great guess! \")\n",
        "      else:\n",
        "        attempts-=1\n",
        "        print(\"Wrong guess!Attempts left: \"+str(attempts))\n",
        "      if \"_\" not in guessedword:\n",
        "        print(\"Congratulations! You guessed the word: \"+word)\n",
        "        break\n",
        "      if attempts==0 and \"_\" in guessedword:\n",
        "        print(\"\\n You've run out of attempts! The word was: \"+word)\n"
      ],
      "metadata": {
        "colab": {
          "base_uri": "https://localhost:8080/"
        },
        "id": "8xX4d-fX1RMW",
        "outputId": "86fbec44-572b-4a72-f335-8de4fa2fd561"
      },
      "execution_count": null,
      "outputs": [
        {
          "output_type": "stream",
          "name": "stdout",
          "text": [
            "\n",
            "Current Word: _ _ _ _\n",
            "Guess a letter: t\n",
            "\n",
            "Current Word: _ _ _ _\n",
            "Guess a letter: i\n",
            "Wrong guess!Attempts left: 9\n",
            "Wrong guess!Attempts left: 8\n",
            "Great guess! \n",
            "Wrong guess!Attempts left: 7\n",
            "\n",
            "Current Word: _ _ i _\n",
            "Guess a letter: o\n",
            "Great guess! \n",
            "Wrong guess!Attempts left: 6\n",
            "Wrong guess!Attempts left: 5\n",
            "Great guess! \n",
            "\n",
            "Current Word: o _ i o\n",
            "Guess a letter: h\n",
            "Wrong guess!Attempts left: 4\n",
            "Great guess! \n",
            "Congratulations! You guessed the word: ohio\n",
            "\n",
            "Current Word: o h i o\n"
          ]
        }
      ]
    }
  ]
}